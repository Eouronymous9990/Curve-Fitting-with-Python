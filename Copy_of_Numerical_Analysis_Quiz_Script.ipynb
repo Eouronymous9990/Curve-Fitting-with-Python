{
  "cells": [
    {
      "cell_type": "markdown",
      "metadata": {
        "id": "3ztkw4Rj8Mrq"
      },
      "source": [
        "# **Curve Fitting**\n"
      ]
    },
    {
      "cell_type": "markdown",
      "metadata": {
        "id": "wc6YFc5q8Mrv"
      },
      "source": [
        "## **Simple Form**\n"
      ]
    },
    {
      "cell_type": "code",
      "source": [
        "import pandas as pd\n",
        "import numpy as np\n",
        "\n",
        "class CurveFit:\n",
        "    def __init__(self, file_path, sheet_name):\n",
        "        # Prepare data\n",
        "        self.data = pd.read_excel(file_path, sheet_name=sheet_name)\n",
        "\n",
        "        if 'x' in self.data.columns and 'y' in self.data.columns:\n",
        "            self.data['x . y'] = self.data['x'] * self.data['y']\n",
        "            self.data['x ^ 2'] = self.data['x'] ** 2\n",
        "\n",
        "            self.x = self.data['x']\n",
        "            self.y = self.data['y']\n",
        "            self.sum_x = np.sum(self.x)\n",
        "            self.sum_y = np.sum(self.y)\n",
        "            self.sum_xy = np.sum(self.x * self.y)\n",
        "            self.sum_x2 = np.sum(self.x ** 2)\n",
        "            self.n = len(self.x)\n",
        "            self.a_matrix = np.array([[self.n, self.sum_x], [self.sum_x, self.sum_x2]])\n",
        "            self.b_vector = np.array([self.sum_y, self.sum_xy])\n",
        "        else:\n",
        "            raise ValueError(\"Columns not found in the Excel file\")\n",
        "\n",
        "    def fit(self):\n",
        "        try:\n",
        "            self.solution = np.linalg.solve(self.a_matrix, self.b_vector)\n",
        "            self.a, self.b = self.solution\n",
        "        except np.linalg.LinAlgError:\n",
        "            raise ValueError(\"The matrix does not have a unique solution\")\n",
        "\n",
        "    def error(self):\n",
        "        self.data['y(i)'] = self.a + self.b * self.data['x']\n",
        "        self.rmse = np.sqrt(((self.data['y'] - self.data['y(i)']) ** 2).mean())\n",
        "\n",
        "        print(self.data)\n",
        "        print(\" \" * 50)\n",
        "        print(\"a =\", round(self.a, 5))\n",
        "        print(\"b =\", round(self.b, 5))\n",
        "        print(\" \" * 50)\n",
        "        print(f\"RMSE = {np.round(self.rmse, 5)}\")\n",
        "\n",
        "        return self.rmse\n",
        "\n",
        "    def predict(self, x):\n",
        "        y_pred = self.a + self.b * x\n",
        "        return y_pred\n",
        "\n",
        "file_path = '/content/Book1.xlsx'\n",
        "sheet_name = 'Sheet1'\n",
        "\n",
        "curve_fit = CurveFit(file_path, sheet_name)\n",
        "\n",
        "curve_fit.fit()\n",
        "\n",
        "curve_fit.error()\n",
        "\n",
        "x_value = 2.5\n",
        "predicted_y = curve_fit.predict(x_value)\n",
        "print(f\"Predicted y  = {x_value} is {predicted_y}\")\n"
      ],
      "metadata": {
        "id": "led-fxWyKNzJ",
        "outputId": "49b89067-3e83-44cc-9402-280f85484004",
        "colab": {
          "base_uri": "https://localhost:8080/"
        }
      },
      "execution_count": null,
      "outputs": [
        {
          "output_type": "stream",
          "name": "stdout",
          "text": [
            "     x     y  x . y  x ^ 2      y(i)\n",
            "0  0.5  0.31  0.155   0.25  0.263333\n",
            "1  1.0  0.82  0.820   1.00  0.811333\n",
            "2  1.5  1.29  1.935   2.25  1.359333\n",
            "3  2.0  1.85  3.700   4.00  1.907333\n",
            "4  2.5  2.51  6.275   6.25  2.455333\n",
            "5  3.0  3.02  9.060   9.00  3.003333\n",
            "                                                  \n",
            "a = -0.28467\n",
            "b = 1.096\n",
            "                                                  \n",
            "RMSE = 0.04763\n",
            "Predicted y  = 2.5 is 2.4553333333333334\n"
          ]
        }
      ]
    }
  ],
  "metadata": {
    "kernelspec": {
      "display_name": "Python 3",
      "language": "python",
      "name": "python3"
    },
    "language_info": {
      "codemirror_mode": {
        "name": "ipython",
        "version": 3
      },
      "file_extension": ".py",
      "mimetype": "text/x-python",
      "name": "python",
      "nbconvert_exporter": "python",
      "pygments_lexer": "ipython3",
      "version": "3.12.4"
    },
    "colab": {
      "provenance": []
    }
  },
  "nbformat": 4,
  "nbformat_minor": 0
}